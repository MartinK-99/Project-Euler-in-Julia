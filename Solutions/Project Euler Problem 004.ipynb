{
 "cells": [
  {
   "cell_type": "markdown",
   "id": "fd6cb2c0",
   "metadata": {},
   "source": [
    "# Project Euler Problem 4\n",
    "## Largest palindrome product\n",
    "\n",
    "A palindromic number reads the same both ways. The largest palindrome made from the product of two 2-digit numbers is $9009 = 91 × 99$.\n",
    "\n",
    "Find the largest palindrome made from the product of two 3-digit numbers.\n",
    "\n",
    "## Solution\n",
    "Largest palindrome product is $906609$."
   ]
  },
  {
   "cell_type": "code",
   "execution_count": 3,
   "id": "39d47693",
   "metadata": {
    "scrolled": true
   },
   "outputs": [
    {
     "name": "stdout",
     "output_type": "stream",
     "text": [
      "  0.046669 seconds (810.90 k allocations: 37.120 MiB, 16.48% gc time)\n",
      "906609\n"
     ]
    }
   ],
   "source": [
    "function isPalindrome(N)\n",
    "    s = string(N, base=10)\n",
    "    l = length(s)\n",
    "    for i = 1:div(l, 2)\n",
    "        if s[i] != s[l + 1 - i]\n",
    "            return false\n",
    "        end\n",
    "    end\n",
    "    return true\n",
    "end\n",
    "\n",
    "# Shorter but slower\n",
    "#=\n",
    "function isPalindrome(N)\n",
    "    s = string(N,base=10,pad=0)\n",
    "     return s == reverse(s)\n",
    "end\n",
    "=#\n",
    "\n",
    "function largestPalindromeProduct()\n",
    "    max_prod::Int = 0\n",
    "    for i = 100:999\n",
    "        for j = i:999\n",
    "            prod::Int = i * j\n",
    "            if isPalindrome(prod) && prod > max_prod\n",
    "                max_prod = prod\n",
    "            end\n",
    "        end\n",
    "    end\n",
    "    return max_prod\n",
    "end\n",
    "\n",
    "\n",
    "@time output = largestPalindromeProduct()\n",
    "println(output)"
   ]
  }
 ],
 "metadata": {
  "kernelspec": {
   "display_name": "Julia 1.6.3",
   "language": "julia",
   "name": "julia-1.6"
  },
  "language_info": {
   "file_extension": ".jl",
   "mimetype": "application/julia",
   "name": "julia",
   "version": "1.6.3"
  }
 },
 "nbformat": 4,
 "nbformat_minor": 5
}
