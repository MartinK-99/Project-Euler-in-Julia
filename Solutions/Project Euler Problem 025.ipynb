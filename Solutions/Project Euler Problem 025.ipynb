{
 "cells": [
  {
   "cell_type": "markdown",
   "id": "c3d052bc",
   "metadata": {},
   "source": [
    "# Project Euler Problem 25\n",
    "## 1000-digit Fibonacci number\n",
    "\n",
    "The Fibonacci sequence is defined by the recurrence relation:\n",
    "\n",
    "$F_n = F_{n−1} + F_{n−2}$, where $F_1 = 1$ and $F_2 = 1$.\n",
    "Hence the first 12 terms will be:\n",
    "\n",
    "$F_1 = 1\\\\\n",
    "F_2 = 1\\\\\n",
    "F_3 = 2\\\\\n",
    "F_4 = 3\\\\\n",
    "F_5 = 5\\\\\n",
    "F_6 = 8\\\\\n",
    "F_7 = 13\\\\\n",
    "F_8 = 21\\\\\n",
    "F_9 = 34\\\\\n",
    "F_{10} = 55\\\\\n",
    "F_{11} = 89\\\\\n",
    "F_{12} = 144$\n",
    "\n",
    "The 12th term, $F_{12}$, is the first term to contain three digits.\n",
    "\n",
    "What is the index of the first term in the Fibonacci sequence to contain 1000 digits?\n",
    "\n",
    "## Solution\n",
    "$4782$"
   ]
  },
  {
   "cell_type": "code",
   "execution_count": 7,
   "id": "ab18cb53",
   "metadata": {},
   "outputs": [
    {
     "name": "stdout",
     "output_type": "stream",
     "text": [
      "  0.016644 seconds (39.70 k allocations: 7.996 MiB)\n",
      "4782\n"
     ]
    }
   ],
   "source": [
    "function compute()\n",
    "    f1 = BigInt(1)\n",
    "    f2 = BigInt(1)\n",
    "    f3 = BigInt()\n",
    "    i = 2\n",
    "    while length(string(f3)) < 1000\n",
    "        i += 1\n",
    "        f3 = f1 + f2\n",
    "\n",
    "        f1 = f2\n",
    "\n",
    "        f2 = f3\n",
    "    end\n",
    "    return i\n",
    "end\n",
    "\n",
    "@time result = compute()\n",
    "println(result)"
   ]
  }
 ],
 "metadata": {
  "kernelspec": {
   "display_name": "Julia 1.6.3",
   "language": "julia",
   "name": "julia-1.6"
  },
  "language_info": {
   "file_extension": ".jl",
   "mimetype": "application/julia",
   "name": "julia",
   "version": "1.6.3"
  }
 },
 "nbformat": 4,
 "nbformat_minor": 5
}
