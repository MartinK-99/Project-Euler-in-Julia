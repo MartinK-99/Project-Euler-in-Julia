{
 "cells": [
  {
   "cell_type": "markdown",
   "id": "6b98cc0b",
   "metadata": {},
   "source": [
    "# Project Euler Problem 20\n",
    "## Factorial digit sum\n",
    "\n",
    "n! means n × (n − 1) × ... × 3 × 2 × 1\n",
    "\n",
    "For example, 10! = 10 × 9 × ... × 3 × 2 × 1 = 3628800,\n",
    "and the sum of the digits in the number 10! is 3 + 6 + 2 + 8 + 8 + 0 + 0 = 27.\n",
    "\n",
    "Find the sum of the digits in the number 100!"
   ]
  },
  {
   "cell_type": "code",
   "execution_count": 11,
   "id": "f4d8220e",
   "metadata": {},
   "outputs": [
    {
     "name": "stdout",
     "output_type": "stream",
     "text": [
      "  0.000079 seconds (939 allocations: 44.906 KiB)\n",
      "648\n"
     ]
    }
   ],
   "source": [
    "function factorial(n)\n",
    "    f = BigInt(1)\n",
    "    for i = 2:n\n",
    "        f *= i\n",
    "    end\n",
    "    return f\n",
    "end\n",
    "\n",
    "function compute()\n",
    "    num = factorial(100)\n",
    "    digits = parse.(Int, split(string(num), \"\"))\n",
    "    return sum(digits)\n",
    "end\n",
    "\n",
    "@time result = compute()\n",
    "println(result)"
   ]
  }
 ],
 "metadata": {
  "kernelspec": {
   "display_name": "Julia 1.6.3",
   "language": "julia",
   "name": "julia-1.6"
  },
  "language_info": {
   "file_extension": ".jl",
   "mimetype": "application/julia",
   "name": "julia",
   "version": "1.6.3"
  }
 },
 "nbformat": 4,
 "nbformat_minor": 5
}
