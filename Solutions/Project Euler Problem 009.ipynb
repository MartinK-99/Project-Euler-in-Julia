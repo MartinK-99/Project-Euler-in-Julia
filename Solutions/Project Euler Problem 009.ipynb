{
 "cells": [
  {
   "cell_type": "markdown",
   "id": "be03ea27",
   "metadata": {},
   "source": [
    "# Project Euler Problem 9\n",
    "## Special Pythagorean triplet\n",
    "A Pythagorean triplet is a set of three natural numbers, a < b < c, for which,\n",
    "\n",
    "$$a^2 + b^2 = c^2$$\n",
    "For example, $3^2 + 4^2 = 9 + 16 = 25 = 5^2$.\n",
    "\n",
    "There exists exactly one Pythagorean triplet for which a + b + c = 1000.\n",
    "Find the product abc.\n",
    "\n",
    "## Solution\n",
    "$a b c = 31875000$"
   ]
  },
  {
   "cell_type": "code",
   "execution_count": 12,
   "id": "c17cee24",
   "metadata": {},
   "outputs": [
    {
     "name": "stdout",
     "output_type": "stream",
     "text": [
      "  0.002237 seconds (1 allocation: 16 bytes)\n",
      "31875000\n"
     ]
    }
   ],
   "source": [
    "function compute()\n",
    "    for a = 1:1000\n",
    "        for b = (a + 1):1000\n",
    "            c = floor(Int,sqrt(a^2 + b^2))\n",
    "            if a^2 + b^2 == c^2 && a + b + c == 1000\n",
    "                return a * b * c \n",
    "            end\n",
    "        end\n",
    "    end\n",
    "end\n",
    "    \n",
    "@time r = compute()\n",
    "println(r)"
   ]
  }
 ],
 "metadata": {
  "kernelspec": {
   "display_name": "Julia 1.6.3",
   "language": "julia",
   "name": "julia-1.6"
  },
  "language_info": {
   "file_extension": ".jl",
   "mimetype": "application/julia",
   "name": "julia",
   "version": "1.6.3"
  }
 },
 "nbformat": 4,
 "nbformat_minor": 5
}
