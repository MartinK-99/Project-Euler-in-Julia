{
 "cells": [
  {
   "cell_type": "markdown",
   "id": "a574dc84",
   "metadata": {},
   "source": [
    "# Project Euler Problem 10\n",
    "## Summation of primes\n",
    "\n",
    "The sum of the primes below 10 is 2 + 3 + 5 + 7 = 17.\n",
    "\n",
    "Find the sum of all the primes below two million.\n",
    "\n",
    "## Solution\n",
    "$142913828922$"
   ]
  },
  {
   "cell_type": "code",
   "execution_count": 5,
   "id": "3421d99d",
   "metadata": {},
   "outputs": [
    {
     "name": "stdout",
     "output_type": "stream",
     "text": [
      "  0.192764 seconds (2.04 k allocations: 41.074 MiB, 3.27% gc time)\n",
      "142913828922\n"
     ]
    }
   ],
   "source": [
    "function sieveOfEratosthenes(N)\n",
    "    p::Array{Int} = vcat(2:N)\n",
    "    i::Int = 1\n",
    "    while true\n",
    "        index = Int[]\n",
    "        prime = p[i]\n",
    "        for j = (i+1):length(p)\n",
    "            if p[j] % prime == 0\n",
    "                push!(index, j) \n",
    "            end\n",
    "        end\n",
    "        if length(index) == 0\n",
    "           break \n",
    "        end\n",
    "        p = deleteat!(p, index)\n",
    "        i+= 1\n",
    "    end\n",
    "    return p\n",
    "end\n",
    "\n",
    "@time s = sum(sieveOfEratosthenes(2_000_000))\n",
    "println(s)"
   ]
  }
 ],
 "metadata": {
  "kernelspec": {
   "display_name": "Julia 1.6.3",
   "language": "julia",
   "name": "julia-1.6"
  },
  "language_info": {
   "file_extension": ".jl",
   "mimetype": "application/julia",
   "name": "julia",
   "version": "1.6.3"
  }
 },
 "nbformat": 4,
 "nbformat_minor": 5
}
