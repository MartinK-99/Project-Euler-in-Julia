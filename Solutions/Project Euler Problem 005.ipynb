{
 "cells": [
  {
   "cell_type": "markdown",
   "id": "0fb0a531",
   "metadata": {},
   "source": [
    "# Project Euler Problem 5\n",
    "## Smallest multiple\n",
    "\n",
    "2520 is the smallest number that can be divided by each of the numbers from 1 to 10 without any remainder.\n",
    "\n",
    "What is the smallest positive number that is evenly divisible by all of the numbers from 1 to 20?"
   ]
  },
  {
   "cell_type": "code",
   "execution_count": 10,
   "id": "cc57c11d",
   "metadata": {},
   "outputs": [
    {
     "name": "stdout",
     "output_type": "stream",
     "text": [
      "  0.444003 seconds (1 allocation: 16 bytes)\n",
      "232792560\n"
     ]
    }
   ],
   "source": [
    "function compute()\n",
    "    n::Int = 0\n",
    "    while true\n",
    "        n += 20\n",
    "        divisible::Bool = true\n",
    "        for i = 2:19\n",
    "            if n % i != 0\n",
    "                divisible = false\n",
    "                break\n",
    "            end\n",
    "        end\n",
    "        if divisible\n",
    "            return n\n",
    "        end\n",
    "    end\n",
    "end\n",
    "\n",
    "@time r = compute()\n",
    "println(r)"
   ]
  }
 ],
 "metadata": {
  "kernelspec": {
   "display_name": "Julia 1.6.3",
   "language": "julia",
   "name": "julia-1.6"
  },
  "language_info": {
   "file_extension": ".jl",
   "mimetype": "application/julia",
   "name": "julia",
   "version": "1.6.3"
  }
 },
 "nbformat": 4,
 "nbformat_minor": 5
}
