{
 "cells": [
  {
   "cell_type": "markdown",
   "id": "4787c740",
   "metadata": {},
   "source": [
    "# Project Euler Problem 104\n",
    "## Pandigital Fibanicci ends\n",
    "\n",
    "The Fibonacci sequence is defined by the recurrence relation:\n",
    "\n",
    "$F_n = F_{n−1} + F_{n−2}$i, where $F_1 = 1$ and $F_2 = 1$.\n",
    "It turns out that $F_{541}$, which contains 113 digits, is the first Fibonacci number for which the last nine digits are 1-9 pandigital (contain all the digits 1 to 9, but not necessarily in order). And $F_{2749}$, which contains 575 digits, is the first Fibonacci number for which the first nine digits are 1-9 pandigital.\n",
    "\n",
    "Given that $F_k$ is the first Fibonacci number for which the first nine digits AND the last nine digits are 1-9 pandigital, find $k$.\n",
    "\n",
    "## Solution\n",
    "$329468$. I mean it worked but this seems to be very slow and inefficient."
   ]
  },
  {
   "cell_type": "code",
   "execution_count": 43,
   "id": "a377d925",
   "metadata": {
    "scrolled": true
   },
   "outputs": [
    {
     "name": "stdout",
     "output_type": "stream",
     "text": [
      "319.970551 seconds (13.05 M allocations: 26.371 GiB, 0.21% gc time)\n",
      "329468\n"
     ]
    }
   ],
   "source": [
    "function pandigital(N::BigInt)\n",
    "    str = string(N)\n",
    "    if length(str) < 9\n",
    "        return false\n",
    "    elseif sort!(parse.(Int,split(str[1:9],\"\")),alg=InsertionSort) == [1,2,3,4,5,6,7,8,9] && sort!(parse.(Int,split(str[end-8:end],\"\")),alg=InsertionSort) == [1,2,3,4,5,6,7,8,9]\n",
    "        return true\n",
    "    else\n",
    "        return false\n",
    "    end\n",
    "end\n",
    "function compute()\n",
    "    f1 = BigInt(1)\n",
    "    f2 = BigInt(2)\n",
    "\n",
    "    it = 3\n",
    "    while true\n",
    "        it += 1\n",
    "        f3 = f1 + f2\n",
    "        if f3 > 123456789 && pandigital(f3)\n",
    "            break\n",
    "        end\n",
    "        f1 = f2\n",
    "        f2 = f3\n",
    "    end\n",
    "    return it\n",
    "end\n",
    "\n",
    "@time result = compute()\n",
    "println(result)"
   ]
  }
 ],
 "metadata": {
  "kernelspec": {
   "display_name": "Julia 1.6.3",
   "language": "julia",
   "name": "julia-1.6"
  },
  "language_info": {
   "file_extension": ".jl",
   "mimetype": "application/julia",
   "name": "julia",
   "version": "1.6.3"
  }
 },
 "nbformat": 4,
 "nbformat_minor": 5
}
