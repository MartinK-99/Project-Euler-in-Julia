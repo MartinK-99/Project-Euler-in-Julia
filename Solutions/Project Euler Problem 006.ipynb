{
 "cells": [
  {
   "cell_type": "markdown",
   "id": "b91f9ebf",
   "metadata": {},
   "source": [
    "# Project Euler Problem 6\n",
    "## Sum square difference\n",
    "\n",
    "The sum of the squares of the first ten natural numbers is,\n",
    "\n",
    "$$1^2 + 2^2 + ... +10^2 = 385$$\n",
    "\n",
    "The square of the sum of the first ten natural numbers is,\n",
    "\n",
    "$$(1 + 2 + ... + 10)^2 = 55^2 = 3025$$\n",
    "\n",
    "Hence the difference between the sum of the squares of the first ten natural numbers and the square of the sum is $3025-385=2640$.\n",
    "\n",
    "Find the difference between the sum of the squares of the first one hundred natural numbers and the square of the sum.\n",
    "\n",
    "## Solution\n",
    "$25164150$"
   ]
  },
  {
   "cell_type": "code",
   "execution_count": 4,
   "id": "8b9c5d55",
   "metadata": {},
   "outputs": [
    {
     "name": "stdout",
     "output_type": "stream",
     "text": [
      "  0.000001 seconds (1 allocation: 16 bytes)\n",
      "25164150\n"
     ]
    }
   ],
   "source": [
    "function naiveApproach()\n",
    "    n::Int = 100\n",
    "    \n",
    "    s1::Int = 0\n",
    "    s2::Int = 0\n",
    "    \n",
    "    for i = 1:n\n",
    "        s1 += i^2\n",
    "        s2 += i\n",
    "    end\n",
    "    s2 ^= 2\n",
    "    return s2 - s1\n",
    "end\n",
    "\n",
    "@time d = naiveApproach()\n",
    "println(d)"
   ]
  },
  {
   "cell_type": "markdown",
   "id": "7813de1d",
   "metadata": {},
   "source": [
    "# Mathformulas\n",
    "\n",
    "The sum up to $n$ is\n",
    "$$ \\dfrac{n(n+1)}{2} $$\n",
    "and the sum of the squares up to $n$ is\n",
    "$$ \\dfrac{n(n+1)(2n+1)}{6}.$$"
   ]
  },
  {
   "cell_type": "code",
   "execution_count": 3,
   "id": "61c01abc",
   "metadata": {},
   "outputs": [
    {
     "name": "stdout",
     "output_type": "stream",
     "text": [
      "  0.000001 seconds\n",
      "25164150\n"
     ]
    }
   ],
   "source": [
    "function formulas()\n",
    "    n::Int = 100\n",
    "    sumSquared::Int = (n * (n + 1) / 2)^2\n",
    "    sumOfSquares::Int = (n * (n + 1) * (2 * n + 1)) / 6\n",
    "    \n",
    "    return sumSquared - sumOfSquares\n",
    "end\n",
    "\n",
    "@time d = formulas()\n",
    "println(d)"
   ]
  }
 ],
 "metadata": {
  "kernelspec": {
   "display_name": "Julia 1.6.3",
   "language": "julia",
   "name": "julia-1.6"
  },
  "language_info": {
   "file_extension": ".jl",
   "mimetype": "application/julia",
   "name": "julia",
   "version": "1.6.3"
  }
 },
 "nbformat": 4,
 "nbformat_minor": 5
}
