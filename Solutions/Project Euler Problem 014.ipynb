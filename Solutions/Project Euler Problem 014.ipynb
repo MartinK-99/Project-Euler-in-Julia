{
 "cells": [
  {
   "cell_type": "markdown",
   "id": "e170cfab",
   "metadata": {},
   "source": [
    "# Project Euler Problem 14\n",
    "## Longest Collatz sequence\n",
    "\n",
    "The following iterative sequence is defined for the set of positive integers:\n",
    "\n",
    "n → n/2 (n is even)\n",
    "n → 3n + 1 (n is odd)\n",
    "\n",
    "Using the rule above and starting with 13, we generate the following sequence:\n",
    "\n",
    "13 → 40 → 20 → 10 → 5 → 16 → 8 → 4 → 2 → 1\n",
    "\n",
    "It can be seen that this sequence (starting at 13 and finishing at 1) contains 10 terms. Although it has not been proved yet (Collatz Problem), it is thought that all starting numbers finish at 1.\n",
    "\n",
    "Which starting number, under one million, produces the longest chain?\n",
    "\n",
    "NOTE: Once the chain starts the terms are allowed to go above one million."
   ]
  },
  {
   "cell_type": "code",
   "execution_count": 1,
   "id": "ef7a1b72",
   "metadata": {},
   "outputs": [
    {
     "name": "stdout",
     "output_type": "stream",
     "text": [
      "837799\n",
      "  2.556996 seconds (24.54 k allocations: 9.109 MiB, 1.47% compilation time)\n"
     ]
    }
   ],
   "source": [
    "function collatz(n::Int)\n",
    "    it::Int = 0\n",
    "    while n > 1\n",
    "        if n % 2 == 0\n",
    "            n /= 2\n",
    "        else\n",
    "            n = 3 * n + 1\n",
    "        end\n",
    "        it += 1\n",
    "    end\n",
    "    return it\n",
    "end\n",
    "function compute()\n",
    "    numbers = 1:999_999 # Numbers from 1 to 999,999\n",
    "    result = map(collatz, numbers) # Map the collatz function to all numbers\n",
    "    index = argmax(result) # find index of the maximum iterations\n",
    "    println(numbers[index])\n",
    "end\n",
    "\n",
    "@time compute()"
   ]
  }
 ],
 "metadata": {
  "kernelspec": {
   "display_name": "Julia 1.6.3",
   "language": "julia",
   "name": "julia-1.6"
  },
  "language_info": {
   "file_extension": ".jl",
   "mimetype": "application/julia",
   "name": "julia",
   "version": "1.6.3"
  }
 },
 "nbformat": 4,
 "nbformat_minor": 5
}
