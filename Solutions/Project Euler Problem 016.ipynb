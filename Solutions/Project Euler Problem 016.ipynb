{
 "cells": [
  {
   "cell_type": "markdown",
   "id": "0f1234ba",
   "metadata": {},
   "source": [
    "# Project Euler Problem 16\n",
    "## Power digit sum\n",
    "\n",
    "$2^{15} = 32768$ and the sum of its digits is 3 + 2 + 7 + 6 + 8 = 26.\n",
    "\n",
    "What is the sum of the digits of the number $2^{1000}$?\n",
    "\n",
    "## Solution\n",
    "$1366$"
   ]
  },
  {
   "cell_type": "code",
   "execution_count": 4,
   "id": "8cc9e4ed",
   "metadata": {},
   "outputs": [
    {
     "name": "stdout",
     "output_type": "stream",
     "text": [
      "  0.000076 seconds (631 allocations: 65.445 KiB)\n",
      "1366\n"
     ]
    }
   ],
   "source": [
    "function compute()    \n",
    "    num = BigInt(2)^1000\n",
    "    digits = parse.(Int, split(string(num),\"\"))\n",
    "    return sum(digits)\n",
    "end\n",
    "\n",
    "@time result = compute()\n",
    "println(result)"
   ]
  }
 ],
 "metadata": {
  "kernelspec": {
   "display_name": "Julia 1.6.3",
   "language": "julia",
   "name": "julia-1.6"
  },
  "language_info": {
   "file_extension": ".jl",
   "mimetype": "application/julia",
   "name": "julia",
   "version": "1.6.3"
  }
 },
 "nbformat": 4,
 "nbformat_minor": 5
}
