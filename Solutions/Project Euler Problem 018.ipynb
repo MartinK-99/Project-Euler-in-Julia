{
 "cells": [
  {
   "cell_type": "markdown",
   "id": "06e66124",
   "metadata": {},
   "source": [
    "# Project Euler Problem 18\n",
    "## Maximum path sum I\n",
    "\n",
    "By starting at the top of the triangle below and moving to adjacent numbers on the row below, the maximum total from top to bottom is 23.\n",
    "\n",
    "**3**\\\n",
    "**7** 4\\\n",
    "2 **4** 6\\\n",
    "8 5 **9** 3\n",
    "\n",
    "That is, 3 + 7 + 4 + 9 = 23.\n",
    "\n",
    "Find the maximum total from top to bottom of the triangle below:\n",
    "\n",
    "75\\\n",
    "95 64\\\n",
    "17 47 82\\\n",
    "18 35 87 10\\\n",
    "20 04 82 47 65\\\n",
    "19 01 23 75 03 34\\\n",
    "88 02 77 73 07 63 67\\\n",
    "99 65 04 28 06 16 70 92\\\n",
    "41 41 26 56 83 40 80 70 33\\\n",
    "41 48 72 33 47 32 37 16 94 29\\\n",
    "53 71 44 65 25 43 91 52 97 51 14\\\n",
    "70 11 33 28 77 73 17 78 39 68 17 57\\\n",
    "91 71 52 38 17 14 91 43 58 50 27 29 48\\\n",
    "63 66 04 68 89 53 67 30 73 16 69 87 40 31\\\n",
    "04 62 98 27 23 09 70 98 73 93 38 53 60 04 23\n",
    "\n",
    "## Solution\n",
    "$1074$"
   ]
  },
  {
   "cell_type": "code",
   "execution_count": 51,
   "id": "b15f7baf",
   "metadata": {},
   "outputs": [
    {
     "name": "stdout",
     "output_type": "stream",
     "text": [
      "  0.006733 seconds (16.97 k allocations: 1.509 MiB)\n",
      "  0.028817 seconds (39.94 k allocations: 2.403 MiB, 99.81% compilation time)\n",
      "1074\n",
      "1074\n"
     ]
    }
   ],
   "source": [
    "triangle = \"75\n",
    "95 64\n",
    "17 47 82\n",
    "18 35 87 10\n",
    "20 04 82 47 65\n",
    "19 01 23 75 03 34\n",
    "88 02 77 73 07 63 67\n",
    "99 65 04 28 06 16 70 92\n",
    "41 41 26 56 83 40 80 70 33\n",
    "41 48 72 33 47 32 37 16 94 29\n",
    "53 71 44 65 25 43 91 52 97 51 14\n",
    "70 11 33 28 77 73 17 78 39 68 17 57\n",
    "91 71 52 38 17 14 91 43 58 50 27 29 48\n",
    "63 66 04 68 89 53 67 30 73 16 69 87 40 31\n",
    "04 62 98 27 23 09 70 98 73 93 38 53 60 04 23\"\n",
    "\n",
    "# Convert string to array of form [[75], [95 64], [17 47 82], ...]\n",
    "rows = split(triangle,\"\\n\")\n",
    "HEIGHT = length(rows)\n",
    "triangle_array = [parse.(Int,split(rows[i],\" \")) for i = 1:HEIGHT]\n",
    "\n",
    "# Recursive approach\n",
    "function maxSum(i, j)\n",
    "    if i == HEIGHT\n",
    "        return triangle_array[i][j]\n",
    "    else\n",
    "        return maximum([triangle_array[i][j] + maxSum(i + 1, j), triangle_array[i][j] + maxSum(i + 1, j + 1)])\n",
    "    end\n",
    "end\n",
    "\n",
    "# Dynamic programming\n",
    "function maxSumDynamic(T)\n",
    "    for i = (length(T)-1):-1:1\n",
    "        for j = 1:i\n",
    "            T[i][j] += maximum([T[i + 1][j], T[i + 1][j + 1]])\n",
    "        end\n",
    "    end\n",
    "    return T[1][1]\n",
    "end\n",
    "        \n",
    "    \n",
    "\n",
    "@time result1 = maxSum(1, 1)\n",
    "@time result2 = maxSumDynamic(triangle_array)\n",
    "println(result1)\n",
    "println(result2)"
   ]
  }
 ],
 "metadata": {
  "kernelspec": {
   "display_name": "Julia 1.6.3",
   "language": "julia",
   "name": "julia-1.6"
  },
  "language_info": {
   "file_extension": ".jl",
   "mimetype": "application/julia",
   "name": "julia",
   "version": "1.6.3"
  }
 },
 "nbformat": 4,
 "nbformat_minor": 5
}
