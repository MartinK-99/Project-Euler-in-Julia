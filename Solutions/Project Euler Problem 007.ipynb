{
 "cells": [
  {
   "cell_type": "markdown",
   "id": "a150496e",
   "metadata": {},
   "source": [
    "# Project Euler Problem 7\n",
    "## 10001st prime\n",
    "\n",
    "By listing the first six prime numbers: 2, 3, 5, 7, 11, and 13, we can see that the 6th prime is 13.\n",
    "\n",
    "What is the 10 001st prime number?\n",
    "\n",
    "## Solution\n",
    "$104743$ is the 10 001st prime number."
   ]
  },
  {
   "cell_type": "code",
   "execution_count": 1,
   "id": "832a4393",
   "metadata": {},
   "outputs": [
    {
     "name": "stdout",
     "output_type": "stream",
     "text": [
      "  0.158536 seconds (64.82 k allocations: 6.869 MiB, 91.08% compilation time)\n",
      "104743\n"
     ]
    }
   ],
   "source": [
    "function p(n) \n",
    "    #=\n",
    "    This function is an approximation for the amount of prime numbers\n",
    "    smaller or equal to n. For reasonably big n this function returns\n",
    "    a smaller amount of prime numbers not greater than n than what the\n",
    "    actual amount would be, hence it's called an approximation, but\n",
    "    importantly it is smaller.\n",
    "    =#\n",
    "    return n / log(n)\n",
    "end\n",
    "\n",
    "function sieveOfEratosthenes(N)\n",
    "    p::Array{Int} = vcat(2:N)\n",
    "    i::Int = 1\n",
    "    while true\n",
    "        index = Int[]\n",
    "        prime = p[i]\n",
    "        for j = (i + 1):length(p)\n",
    "            if p[j] % prime == 0\n",
    "                push!(index, j) \n",
    "            end\n",
    "        end\n",
    "        if length(index) == 0\n",
    "           break \n",
    "        end\n",
    "        p = deleteat!(p, index)\n",
    "        i += 1\n",
    "    end\n",
    "    return p\n",
    "end\n",
    "\n",
    "n = 10_001\n",
    "#= \n",
    "Using the aforementioned approximation, a guess for how big\n",
    "the array of natural numbers for the sieve of Eratosthenes\n",
    "should be is made, such that it at least contains 10 001\n",
    "prime numbers.\n",
    "=#\n",
    "guess = 10_000\n",
    "increment = 10_000\n",
    "while p(guess) < n\n",
    "    guess += increment\n",
    "end\n",
    "\n",
    "@time s = sieveOfEratosthenes(guess)[n]\n",
    "println(s)"
   ]
  }
 ],
 "metadata": {
  "kernelspec": {
   "display_name": "Julia 1.6.3",
   "language": "julia",
   "name": "julia-1.6"
  },
  "language_info": {
   "file_extension": ".jl",
   "mimetype": "application/julia",
   "name": "julia",
   "version": "1.6.3"
  }
 },
 "nbformat": 4,
 "nbformat_minor": 5
}
