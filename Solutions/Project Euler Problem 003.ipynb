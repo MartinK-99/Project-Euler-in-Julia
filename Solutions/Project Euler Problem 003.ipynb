{
 "cells": [
  {
   "cell_type": "markdown",
   "id": "6b6627e6",
   "metadata": {},
   "source": [
    "# Project Euler Problem 3\n",
    "## Largest Prime Factor\n",
    "\n",
    "The prime factors of $13195$ are $5$, $7$, $13$ and $29$.\n",
    "\n",
    "What is the largest prime factor of the number $600851475143$ ?"
   ]
  },
  {
   "cell_type": "code",
   "execution_count": 7,
   "id": "7d95c2df",
   "metadata": {},
   "outputs": [
    {
     "name": "stdout",
     "output_type": "stream",
     "text": [
      "  0.000045 seconds (3 allocations: 144 bytes)\n",
      "6857\n"
     ]
    }
   ],
   "source": [
    "function largestPrimeFactor(n::Int)\n",
    "    factors = Int[]\n",
    "    current_factor::Int = 2\n",
    "    while n > 1\n",
    "        if n % current_factor == 0\n",
    "            push!(factors, current_factor)\n",
    "            n = div(n, current_factor) # Integer Division\n",
    "        else\n",
    "            current_factor += 1\n",
    "        end\n",
    "    end\n",
    "    return maximum(factors)\n",
    "end\n",
    "\n",
    "N = 600851475143\n",
    "@time output = largestPrimeFactor(N)\n",
    "println(output)"
   ]
  }
 ],
 "metadata": {
  "kernelspec": {
   "display_name": "Julia 1.6.3",
   "language": "julia",
   "name": "julia-1.6"
  },
  "language_info": {
   "file_extension": ".jl",
   "mimetype": "application/julia",
   "name": "julia",
   "version": "1.6.3"
  }
 },
 "nbformat": 4,
 "nbformat_minor": 5
}
