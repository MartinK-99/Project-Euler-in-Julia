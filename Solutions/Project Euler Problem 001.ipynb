{
 "cells": [
  {
   "cell_type": "markdown",
   "id": "849fb668",
   "metadata": {},
   "source": [
    "# Project Euler Problem 1"
   ]
  },
  {
   "cell_type": "markdown",
   "id": "14b4a226",
   "metadata": {},
   "source": [
    "## Multiples of 3 and 5\n",
    "If we list all the natural numbers below $10$ that are multiples of $3$ or $5$, we get $3$, $5$, $6$ and $9$. The sum of these multiples is $23$.\n",
    "\n",
    "Find the sum of all the multiples of $3$ and $5$ below $1000$.\n",
    "\n",
    "## Solution\n",
    "The solution is **233168**."
   ]
  },
  {
   "cell_type": "markdown",
   "id": "4e329601",
   "metadata": {},
   "source": [
    "## Naive Solution"
   ]
  },
  {
   "cell_type": "code",
   "execution_count": 3,
   "id": "54e0c70d",
   "metadata": {},
   "outputs": [
    {
     "name": "stdout",
     "output_type": "stream",
     "text": [
      "  0.012889 seconds (8.52 k allocations: 574.401 KiB, 99.69% compilation time)\n",
      "233168\n"
     ]
    }
   ],
   "source": [
    "N = 1000\n",
    "\n",
    "function naiveApproach(N)\n",
    "    m3 = 3\n",
    "    m5 = 5\n",
    "    s = 0 # The sum\n",
    "\n",
    "    while true\n",
    "        if m3 < N\n",
    "            # Exclude multiples of 3 which are also multiples of 5\n",
    "            if m3 % 5 != 0 \n",
    "                s += m3\n",
    "            end\n",
    "            m3 += 3\n",
    "        end\n",
    "        if m5 < N\n",
    "            s += m5\n",
    "            m5 += 5\n",
    "        end\n",
    "        # If multiples of 3 and 5 exceed N, then break the loop\n",
    "        if m3 >= N && m5 >= N \n",
    "            break\n",
    "        end\n",
    "    end\n",
    "    return s\n",
    "end\n",
    "\n",
    "@time s = naiveApproach(N)\n",
    "println(s)"
   ]
  },
  {
   "cell_type": "markdown",
   "id": "4f022da5",
   "metadata": {},
   "source": [
    "## Short Solution"
   ]
  },
  {
   "cell_type": "code",
   "execution_count": 4,
   "id": "d9632999",
   "metadata": {},
   "outputs": [
    {
     "name": "stdout",
     "output_type": "stream",
     "text": [
      "  0.134898 seconds (62.02 k allocations: 3.762 MiB, 99.96% compilation time)\n",
      "233168\n"
     ]
    }
   ],
   "source": [
    "N = 1000\n",
    "\n",
    "function shortSolution(N)\n",
    "     return sum([x for x in 3:(N-1) if x % 3 == 0 || x % 5 == 0])\n",
    "end\n",
    "\n",
    "@time s = shortSolution(N)\n",
    "println(s)"
   ]
  }
 ],
 "metadata": {
  "kernelspec": {
   "display_name": "Julia 1.6.3",
   "language": "julia",
   "name": "julia-1.6"
  },
  "language_info": {
   "file_extension": ".jl",
   "mimetype": "application/julia",
   "name": "julia",
   "version": "1.6.3"
  }
 },
 "nbformat": 4,
 "nbformat_minor": 5
}
